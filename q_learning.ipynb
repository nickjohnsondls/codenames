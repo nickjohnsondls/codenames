{
 "cells": [
  {
   "cell_type": "code",
   "execution_count": 14,
   "metadata": {},
   "outputs": [
    {
     "name": "stdout",
     "output_type": "stream",
     "text": [
      "Selected clue: apple\n"
     ]
    }
   ],
   "source": [
    "\n",
    "\n",
    "import numpy as np\n",
    "import random\n",
    "\n",
    "# Example list of Codenames words (simplified)\n",
    "codenames_words = ['apple', 'banana', 'cherry', 'date', 'elephant', 'flamingo', 'giraffe', 'hippo']\n",
    "\n",
    "# Simplified representation of states and actions\n",
    "# Assuming states are just the count of words left to guess for simplification\n",
    "# Actions could be giving a clue for any of the words (index in codenames_words)\n",
    "num_states = len(codenames_words)  # Simplified state space\n",
    "num_actions = len(codenames_words)  # One action per possible word clue\n",
    "\n",
    "# Initialize Q-table with zeros\n",
    "q_table = np.zeros((num_states, num_actions))\n",
    "\n",
    "# Parameters for Q-learning\n",
    "alpha = 0.1  # Learning rate\n",
    "gamma = 0.6  # Discount factor\n",
    "epsilon = 0.1  # Exploration rate\n",
    "\n",
    "# Simulate getting a reward for an action in a given state (highly simplified)\n",
    "def get_reward(state, action):\n",
    "    # Simplified reward logic: Correct guesses get a reward, incorrect guesses get a penalty\n",
    "    if random.random() < 0.8:  # Assume 80% chance the team guesses correctly\n",
    "        return 10 - state  # Reward decreases as fewer words are left (increasing difficulty)\n",
    "    else:\n",
    "        return -10  # Penalty for incorrect guess\n",
    "\n",
    "# Q-learning training loop (simplified)\n",
    "for episode in range(1000):  # Number of games to simulate\n",
    "    state = random.randint(1, num_states-1)  # Random initial state\n",
    "\n",
    "    for _ in range(100):  # Limit the number of steps in each game\n",
    "        if random.uniform(0, 1) < epsilon:  # Explore action space\n",
    "            action = random.randint(0, num_actions-1)\n",
    "        else:  # Exploit learned values\n",
    "            action = np.argmax(q_table[state])\n",
    "\n",
    "        # Get the reward for taking the action\n",
    "        reward = get_reward(state, action)\n",
    "\n",
    "        # Update Q-table using the Q-learning equation\n",
    "        next_max = np.max(q_table[state])  # Estimate of optimal future value\n",
    "        q_value = q_table[state, action]\n",
    "        new_q_value = q_value + alpha * (reward + gamma * next_max - q_value)\n",
    "        q_table[state, action] = new_q_value\n",
    "\n",
    "        # Simplified update to state (assuming correct guess)\n",
    "        state -= 1\n",
    "        if state == 0:  # All words guessed correctly\n",
    "            break\n",
    "\n",
    "# Example of using the trained Q-table to select an action\n",
    "def select_clue(state):\n",
    "    action_index = np.argmax(q_table[state])\n",
    "    return codenames_words[action_index]\n",
    "\n",
    "# Example: Select a clue when 5 words are left\n",
    "print(\"Selected clue:\", select_clue(5))\n",
    "\n",
    "\n"
   ]
  }
 ],
 "metadata": {
  "kernelspec": {
   "display_name": "venv445",
   "language": "python",
   "name": "python3"
  },
  "language_info": {
   "codemirror_mode": {
    "name": "ipython",
    "version": 3
   },
   "file_extension": ".py",
   "mimetype": "text/x-python",
   "name": "python",
   "nbconvert_exporter": "python",
   "pygments_lexer": "ipython3",
   "version": "3.11.5"
  }
 },
 "nbformat": 4,
 "nbformat_minor": 2
}
