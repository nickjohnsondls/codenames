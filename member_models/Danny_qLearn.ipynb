{
 "cells": [
  {
   "cell_type": "code",
   "execution_count": 1,
   "metadata": {},
   "outputs": [
    {
     "name": "stderr",
     "output_type": "stream",
     "text": [
      "/var/folders/9q/pwqbdz21323f3j79799_2x7m0000gn/T/ipykernel_6640/2666506525.py:8: DeprecationWarning: \n",
      "Pyarrow will become a required dependency of pandas in the next major release of pandas (pandas 3.0),\n",
      "(to allow more performant data types, such as the Arrow string type, and better interoperability with other libraries)\n",
      "but was not found to be installed on your system.\n",
      "If this would cause problems for you,\n",
      "please provide us feedback at https://github.com/pandas-dev/pandas/issues/54466\n",
      "        \n",
      "  import pandas as pd\n"
     ]
    }
   ],
   "source": [
    "#load packages\n",
    "import gensim\n",
    "from gensim.models import KeyedVectors\n",
    "from gensim.models import Word2Vec\n",
    "from gensim.models import FastText\n",
    "from gensim.models import Doc2Vec\n",
    "from gensim.models.doc2vec import TaggedDocument\n",
    "import pandas as pd\n",
    "import numpy as np\n",
    "from sklearn.decomposition import PCA\n",
    "import random\n",
    "import matplotlib.pyplot as plt\n",
    "from sklearn.cluster import KMeans\n",
    "\n",
    "#load the word2vec model\n",
    "model = Word2Vec.load('codenames.model')"
   ]
  },
  {
   "cell_type": "markdown",
   "metadata": {},
   "source": [
    "### Get the wordlist from the model's vocab"
   ]
  },
  {
   "cell_type": "code",
   "execution_count": 2,
   "metadata": {},
   "outputs": [],
   "source": [
    "wordlist = list(model.wv.key_to_index.keys())"
   ]
  },
  {
   "cell_type": "markdown",
   "metadata": {},
   "source": [
    "### Generate a board, along with blue team words, red team words, and a bomb"
   ]
  },
  {
   "cell_type": "code",
   "execution_count": 3,
   "metadata": {},
   "outputs": [
    {
     "name": "stdout",
     "output_type": "stream",
     "text": [
      "Board: ['injection', 'nunnery', 'refract', 'definite', 'old', 'tangent', 'pork', 'unimproved', 'sportive', 'croft', 'pretense', 'analytical', 'spondee', 'breeching', 'episcopal', 'repel', 'archangel', 'brakeman', 'abase', 'olein', 'bookbinder', 'mainmast', 'dyer', 'solstitial', 'compiler']\n",
      "Blue Team: ['injection', 'nunnery', 'refract', 'definite', 'old', 'tangent', 'pork', 'unimproved', 'sportive']\n",
      "Red Team: ['croft', 'pretense', 'analytical', 'spondee', 'breeching', 'episcopal', 'repel', 'archangel']\n",
      "Assassin: ['compiler']\n"
     ]
    }
   ],
   "source": [
    "# Generate a random list of 25 unique words\n",
    "words = random.sample(wordlist, 25)\n",
    "\n",
    "# Split the words into bluelist, redlist, and assassin\n",
    "bluelist = words[:9]\n",
    "redlist = words[9:17]\n",
    "assassin = words[24:]\n",
    "#print the board and the like\n",
    "print(\"Board:\", words)\n",
    "print(\"Blue Team:\", bluelist)\n",
    "print(\"Red Team:\", redlist)\n",
    "print(\"Assassin:\", assassin)\n",
    "\n"
   ]
  },
  {
   "cell_type": "markdown",
   "metadata": {},
   "source": [
    "### Make a 'Mother Board' where each word is in a list with its word vector and a penalty term based on it's role in the game"
   ]
  },
  {
   "cell_type": "code",
   "execution_count": 4,
   "metadata": {},
   "outputs": [],
   "source": [
    "#create a new list, called board_max which will be a list of a list of every word, it's word vector, and a penalty term. If the word is in the bluelist, the penalty term will be -1, if it's in the redlist, the penalty term will be -5, and if it's the assassin, the penalty term will be -100. If it is not in any of those lists then the penalty term will be -2.5\n",
    "board_max = []\n",
    "for word in words:\n",
    "    if word in bluelist:\n",
    "        penalty = -1\n",
    "    elif word in redlist:\n",
    "        penalty = -5\n",
    "    elif word in assassin:\n",
    "        penalty = -100\n",
    "    else:\n",
    "        penalty = -2.5\n",
    "    board_max.append([word, model.wv[word], penalty])\n"
   ]
  },
  {
   "cell_type": "markdown",
   "metadata": {},
   "source": [
    "### Creating a Method\n",
    "\n",
    "Here we create a simple method to get a group of words, find a clue for those words, and generate a score using the penalty terms in our board list. This will be the basis of our main function later on"
   ]
  },
  {
   "cell_type": "code",
   "execution_count": 5,
   "metadata": {},
   "outputs": [],
   "source": [
    "#start with every word in bluelist and find the average word vector for those words\n",
    "\n",
    "blue_avg = np.zeros(100)\n",
    "for word in bluelist:\n",
    "    blue_avg += model.wv[word]\n",
    "blue_avg = blue_avg/3\n",
    "\n",
    "#find the most similar word to the blue_avg vector\n",
    "clue = model.wv.similar_by_vector(blue_avg, topn=1)[0][0]\n",
    "\n",
    "#now iterate through every word in the board_max list, find the similarity between each word and the blue_sim word and multiply that by the penalty term. Hold the sum in a value \n",
    "score = 0\n",
    "for word in board_max:\n",
    "    score += model.wv.similarity(clue, word[0]) * word[2]\n",
    "#add score to a list of scores that hold the clue, the score, and the words that generated the average vector to get the clue\n",
    "scores = []\n",
    "scores.append([clue, score, bluelist])"
   ]
  },
  {
   "cell_type": "markdown",
   "metadata": {},
   "source": [
    "### Put it all together in a function\n",
    "\n",
    "Here we add everything together to make a cohesive function. We also add a piece that gets every combination of i words so that we can test EVERY possibility. This is essentially performing a grid search, and since it isn't a very large space to search over, we can simply find the best possible clue to give for the best combination. "
   ]
  },
  {
   "cell_type": "code",
   "execution_count": 6,
   "metadata": {},
   "outputs": [],
   "source": [
    "from itertools import combinations\n",
    "\n",
    "def QLClueMaster(board, bluelist, redlist, assassin, model):\n",
    "    #create the board master list with wordvectors and penalties\n",
    "    board_max = []\n",
    "    for word in board:\n",
    "        if word in bluelist:\n",
    "            penalty = -1\n",
    "        elif word in redlist:\n",
    "            penalty = -10\n",
    "        elif word in assassin:\n",
    "            penalty = -100\n",
    "        else:\n",
    "            penalty = -5\n",
    "    board_max.append([word, model.wv[word], penalty])\n",
    "    #set combo list and scores list to empty\n",
    "    combos = []\n",
    "    scores = []\n",
    "    #loop from combos of 1 to the length of your wordlist\n",
    "    for i in range(3,len(bluelist)-2):\n",
    "        #get all possible combos for i words in the bluelist\n",
    "        combos = list(combinations(bluelist, i))\n",
    "        #for each combo, get the average vector and find the most similar word to that vector\n",
    "        for combo in combos:\n",
    "            blue_avg = np.zeros(100)\n",
    "            #get the average vector for the combo\n",
    "            for word in combo:\n",
    "                blue_avg += model.wv[word]\n",
    "            blue_avg = blue_avg/len(combo)\n",
    "            #get the top i + 1 most similar words to the average vector (clues)\n",
    "            clues = model.wv.similar_by_vector(blue_avg, topn=(i+1))\n",
    "            #try the first clue, if it's in the combo, try the next one, and so on until you find a clue that isn't in the combo\n",
    "            clue = clues[0][0]\n",
    "            j = 1\n",
    "            while clue in combo:\n",
    "                clue = clues[j][0]\n",
    "                j += 1\n",
    "            clue = clues[j-1][0]\n",
    "            #get the score for the clue\n",
    "            score = 0\n",
    "            for word in board_max:\n",
    "                score += model.wv.similarity(clue, word[0]) * word[2]\n",
    "            #adjust the score by the length of the combo\n",
    "            score = score / len(combo)\n",
    "            #add the clue, score, and combo to the scores list\n",
    "            scores.append([clue, score, combo])\n",
    "\n",
    "    #sort the scores list by the score\n",
    "    scores = sorted(scores, key=lambda x: x[1], reverse=True)\n",
    "    #return the top score, word list, and clue\n",
    "    return scores[0]\n",
    "    \n"
   ]
  },
  {
   "cell_type": "markdown",
   "metadata": {},
   "source": [
    "### Test out the function! "
   ]
  },
  {
   "cell_type": "code",
   "execution_count": 7,
   "metadata": {},
   "outputs": [
    {
     "name": "stdout",
     "output_type": "stream",
     "text": [
      "Board: ['null', 'avail', 'chamois', 'wire', 'ruffed', 'progress', 'balance', 'kail', 'overrule', 'magnetic', 'singsong', 'effeminate', 'climber', 'transubstantiation', 'fearless', 'gymnast', 'serial', 'shad', 'peony', 'hame', 'milking', 'unwrought', 'dagger', 'transpose', 'southwesterly']\n",
      "Blue Team: ['null', 'avail', 'chamois', 'wire', 'ruffed', 'progress', 'balance', 'kail', 'overrule']\n",
      "Red Team: ['magnetic', 'singsong', 'effeminate', 'climber', 'transubstantiation', 'fearless', 'gymnast', 'serial']\n",
      "Assassin: ['southwesterly']\n",
      " \n",
      "Clue: finish\n",
      "Score: -11.51032050450643\n",
      "Word List: ('null', 'avail', 'chamois', 'wire', 'ruffed', 'progress')\n"
     ]
    }
   ],
   "source": [
    "# Generate a random list of 25 unique words\n",
    "board = random.sample(wordlist, 25)\n",
    "\n",
    "# Split the words into bluelist, redlist, and assassin\n",
    "bluelist = board[:9]\n",
    "redlist = board[9:17]\n",
    "assassin = board[24:]\n",
    "#print the board and the like\n",
    "print(\"Board:\", board)\n",
    "print(\"Blue Team:\", bluelist)\n",
    "print(\"Red Team:\", redlist)\n",
    "print(\"Assassin:\", assassin)\n",
    "print(' ')\n",
    "\n",
    "#run the QLClueMaster function\n",
    "clue = QLClueMaster(board, bluelist, redlist, assassin, model)\n",
    "#print the clue, score, and word list\n",
    "print(\"Clue:\", clue[0])\n",
    "print(\"Score:\", clue[1])\n",
    "print(\"Word List:\", clue[2])"
   ]
  }
 ],
 "metadata": {
  "kernelspec": {
   "display_name": "venv445",
   "language": "python",
   "name": "python3"
  },
  "language_info": {
   "codemirror_mode": {
    "name": "ipython",
    "version": 3
   },
   "file_extension": ".py",
   "mimetype": "text/x-python",
   "name": "python",
   "nbconvert_exporter": "python",
   "pygments_lexer": "ipython3",
   "version": "3.10.11"
  }
 },
 "nbformat": 4,
 "nbformat_minor": 2
}
