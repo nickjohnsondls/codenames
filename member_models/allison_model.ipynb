{
 "cells": [
  {
   "cell_type": "markdown",
   "metadata": {},
   "source": [
    "This file has code for help getting started creating a function which generate clues considering the entire board (opponents' words + assassin words + \"bystander\" words)"
   ]
  },
  {
   "cell_type": "code",
   "execution_count": 3,
   "metadata": {},
   "outputs": [],
   "source": [
    "# Import packages\n",
    "import pandas as pd\n",
    "import numpy as np\n",
    "from nltk.tokenize import word_tokenize\n",
    "from nltk.corpus import stopwords\n",
    "import string\n",
    "import gensim\n",
    "import re\n",
    "from gensim.models import Word2Vec\n",
    "from gensim.models import KeyedVectors\n",
    "from gensim.models import Word2Vec\n",
    "from gensim.models import FastText\n",
    "from gensim.models import Doc2Vec\n",
    "from gensim.models.doc2vec import TaggedDocument\n",
    "import nltk\n",
    "import random\n",
    "#nltk.download('punkt')\n",
    "\n",
    "from sklearn.preprocessing import normalize\n",
    "from sklearn.cluster import KMeans\n"
   ]
  },
  {
   "cell_type": "code",
   "execution_count": 8,
   "metadata": {},
   "outputs": [],
   "source": [
    "#reading in the cleaned dictionary\n",
    "df = pd.read_csv('cleaned_dict.csv')\n",
    "\n",
    "#replace commas with spaces\n",
    "df['definition'] = df['definition'].str.replace(',', ' ')\n",
    "#remove any non-alphabetic characters\n",
    "df['definition'] = df['definition'].str.replace('[^a-zA-Z]', '')\n",
    "\n",
    "#tokenize the definitions\n",
    "df['definition'] = df['definition'].apply(word_tokenize)\n",
    "#remove quotes from the words\n",
    "df['definition'] = df['definition'].apply(lambda x: [word.replace(\"'\", \"\") for word in x])\n",
    "\n",
    "#train the word2vec model\n",
    "model = Word2Vec(df['definition'], min_count=5, window=5, sg=0)\n",
    "\n",
    "#save the model\n",
    "model.save('codenames.model')\n",
    "wordlist = list(model.wv.key_to_index.keys())"
   ]
  },
  {
   "cell_type": "markdown",
   "metadata": {},
   "source": [
    "Here's a function that generates clues ONLY for our words"
   ]
  },
  {
   "cell_type": "code",
   "execution_count": 9,
   "metadata": {},
   "outputs": [
    {
     "name": "stdout",
     "output_type": "stream",
     "text": [
      "Board: ['analytical', 'opacity', 'carbon', 'mocker', 'displacement', 'feebly', 'engraved', 'dissolving', 'representative', 'bend', 'supplant', 'scurvy', 'genitals', 'flatiron', 'wherry', 'merrymaking', 'sphenethmoid', 'calcimine', 'lament', 'callosity', 'decant', 'nectar', 'ounce', 'dashing', 'hamlet']\n",
      "Blue Team: ['analytical', 'opacity', 'carbon', 'mocker', 'displacement', 'feebly', 'engraved', 'dissolving', 'representative']\n",
      "Red Team: ['bend', 'supplant', 'scurvy', 'genitals', 'flatiron', 'wherry', 'merrymaking', 'sphenethmoid']\n",
      "Assassin:: ['hamlet']\n"
     ]
    }
   ],
   "source": [
    "# Generate a random list of 25 unique words\n",
    "words = random.sample(wordlist, 25)\n",
    "\n",
    "# Split the words into bluelist, redlist, and assassin \n",
    "#(might need to randomize which team has the extra word)\n",
    "\n",
    "bluelist = words[:9]\n",
    "redlist = words[9:17]\n",
    "assassin = words[24:]\n",
    "#print the board and the like\n",
    "print(\"Board:\", words)\n",
    "print(\"Blue Team:\", bluelist)\n",
    "print(\"Red Team:\", redlist)\n",
    "print(\"Assassin::\", assassin)"
   ]
  },
  {
   "cell_type": "code",
   "execution_count": 11,
   "metadata": {},
   "outputs": [],
   "source": [
    "#create a new list, called board_max which will be a list of a list of every word, it's word vector, \n",
    "#and a penalty term. If the word is in the bluelist, the penalty term will be -1, if it's in the redlist, \n",
    "#the penalty term will be -5, and if it's the assassin, the penalty term will be -100. If it is not in any of \n",
    "#those lists then the penalty term will be -2.5\n",
    "board_max = []\n",
    "for word in words:\n",
    "    if word in bluelist:\n",
    "        penalty = -1\n",
    "    elif word in redlist:\n",
    "        penalty = -5\n",
    "    elif word in assassin:\n",
    "        penalty = -100\n",
    "    else:\n",
    "        penalty = -2.5\n",
    "    board_max.append([word, model.wv[word], penalty])"
   ]
  },
  {
   "cell_type": "code",
   "execution_count": 12,
   "metadata": {},
   "outputs": [],
   "source": [
    "#start with every word in bluelist and find the average word vector for those words\n",
    "\n",
    "blue_avg = np.zeros(100)\n",
    "for word in bluelist:\n",
    "    blue_avg += model.wv[word]\n",
    "blue_avg = blue_avg/3\n",
    "\n",
    "#find the most similar word to the blue_avg vector\n",
    "clue = model.wv.similar_by_vector(blue_avg, topn=1)[0][0]\n",
    "\n",
    "#now iterate through every word in the board_max list, \n",
    "#find the similarity between each word and the blue_sim word and multiply that by the penalty term. Hold the sum in a value \n",
    "score = 0\n",
    "for word in board_max:\n",
    "    score += model.wv.similarity(clue, word[0]) * word[2]\n",
    "#add score to a list of scores that hold the clue, the score, and the words that generated the average vector to get the clue\n",
    "scores = []\n",
    "scores.append([clue, score, bluelist])"
   ]
  },
  {
   "cell_type": "code",
   "execution_count": 65,
   "metadata": {},
   "outputs": [],
   "source": [
    "from itertools import combinations\n",
    "\n",
    "def QLClueMaster(board, bluelist, redlist, assassin, model):\n",
    "    #create the board master list with wordvectors and penalties\n",
    "    board_max = []\n",
    "    for word in board:\n",
    "        if word in bluelist:\n",
    "            penalty = 0.1\n",
    "        elif word in redlist:\n",
    "            penalty = -10\n",
    "        elif word in assassin:\n",
    "            penalty = -100\n",
    "        else:\n",
    "            penalty = -5\n",
    "    board_max.append([word, model.wv[word], penalty])\n",
    "    #set combo list and scores list to empty\n",
    "    combos = []\n",
    "    scores = []\n",
    "    #loop from combos of 1 to the length of your wordlist\n",
    "    startNum = 3\n",
    "    if(len(bluelist) < 3):\n",
    "        StartNum = 0\n",
    "    elif(len(bluelist) > 5):\n",
    "        StartNum = 5\n",
    "    else:\n",
    "        StartNum = 2\n",
    "    \n",
    "    for i in range(startNum,len(bluelist)):\n",
    "        #get all possible combos for i words in the bluelist\n",
    "        combos = list(combinations(bluelist, i))\n",
    "        #for each combo, get the average vector and find the most similar word to that vector\n",
    "        for combo in combos:\n",
    "            blue_avg = np.zeros(100)\n",
    "            #get the average vector for the combo\n",
    "            for word in combo:\n",
    "                blue_avg += model.wv[word]\n",
    "            blue_avg = blue_avg/len(combo)\n",
    "            #get the top i + 1 most similar words to the average vector (clues)\n",
    "            clues = model.wv.similar_by_vector(blue_avg, topn=(i+1))\n",
    "            #try the first clue, if it's in the combo, try the next one, and so on until you find a clue that isn't in the combo\n",
    "            clue = clues[0][0]\n",
    "            j = 1\n",
    "            while clue in combo:\n",
    "                clue = clues[j][0]\n",
    "                j += 1\n",
    "            clue = clues[j-1][0]\n",
    "            #get the score for the clue\n",
    "            score = 0\n",
    "            for word in board_max:\n",
    "                score += model.wv.similarity(clue, word[0]) * word[2]\n",
    "            #adjust the score by the length of the combo\n",
    "            score = score / len(combo)\n",
    "            #add the clue, score, and combo to the scores list\n",
    "            scores.append([clue, score, combo])\n",
    "\n",
    "    #sort the scores list by the score\n",
    "    scores = sorted(scores, key=lambda x: x[1], reverse=True)\n",
    "    #return the top score, word list, and clue\n",
    "    return scores[0]"
   ]
  },
  {
   "cell_type": "code",
   "execution_count": 66,
   "metadata": {},
   "outputs": [
    {
     "name": "stdout",
     "output_type": "stream",
     "text": [
      "Board: ['trustee', 'requital', 'late', 'malvaceous', 'doubleness', 'pudgy', 'divan', 'conspire', 'beheld', 'dispersion', 'balm', 'imprint', 'hunger', 'utterly', 'scribe', 'zero', 'freighter', 'priority', 'medicinal', 'columbite', 'sailor', 'voyage', 'muddle', 'bequest', 'hammock']\n",
      "Blue Team: ['trustee', 'requital', 'late', 'malvaceous', 'doubleness', 'pudgy', 'divan', 'conspire', 'beheld']\n",
      "Red Team: ['dispersion', 'balm', 'imprint', 'hunger', 'utterly', 'scribe', 'zero', 'freighter']\n",
      "Assassin: ['hammock']\n",
      " \n",
      "Clue for Blue Team: absent for 8 words\n",
      "Score: -9.168390184640884\n",
      "Word List: ('trustee', 'requital', 'late', 'malvaceous', 'doubleness', 'pudgy', 'divan', 'conspire')\n"
     ]
    }
   ],
   "source": [
    "# Generate a random list of 25 unique words\n",
    "board = random.sample(wordlist, 25)\n",
    "\n",
    "# Split the words into bluelist, redlist, and assassin\n",
    "bluelist = board[:9]\n",
    "redlist = board[9:17]\n",
    "assassin = board[24:]\n",
    "#print the board and the like\n",
    "print(\"Board:\", board)\n",
    "print(\"Blue Team:\", bluelist)\n",
    "print(\"Red Team:\", redlist)\n",
    "print(\"Assassin:\", assassin)\n",
    "print(' ')\n",
    "\n",
    "#run the QLClueMaster function\n",
    "clue = QLClueMaster(board, bluelist, redlist, assassin, model)\n",
    "#print the clue, score, and word list\n",
    "print(\"Clue for Blue Team:\", clue[0] + \" for\", len(clue[2]), \"words\")\n",
    "print(\"Score:\", clue[1])\n",
    "print(\"Word List:\", clue[2])"
   ]
  }
 ],
 "metadata": {
  "kernelspec": {
   "display_name": "env",
   "language": "python",
   "name": "python3"
  },
  "language_info": {
   "codemirror_mode": {
    "name": "ipython",
    "version": 3
   },
   "file_extension": ".py",
   "mimetype": "text/x-python",
   "name": "python",
   "nbconvert_exporter": "python",
   "pygments_lexer": "ipython3",
   "version": "3.11.1"
  }
 },
 "nbformat": 4,
 "nbformat_minor": 2
}
